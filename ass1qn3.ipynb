{
 "cells": [
  {
   "cell_type": "code",
   "execution_count": 1,
   "id": "24c2d43a",
   "metadata": {},
   "outputs": [
    {
     "name": "stdout",
     "output_type": "stream",
     "text": [
      "Measures of Central Tendency:\n",
      "Mean: 48.33\n",
      "Median: 47.0\n",
      "\n",
      "Measures of Spread:\n",
      "Standard Deviation: 27.81332594279224\n",
      "Range: 95\n"
     ]
    }
   ],
   "source": [
    "import numpy as np\n",
    "\n",
    "# Create a numpy array of 100 random integers between 0 and 100\n",
    "array = np.random.randint(0, 101, size=100)\n",
    "\n",
    "# Calculate measures of central tendency\n",
    "mean = np.mean(array)\n",
    "median = np.median(array)\n",
    "\n",
    "# Calculate measures of spread\n",
    "std_dev = np.std(array)\n",
    "range_val = np.ptp(array)\n",
    "\n",
    "# Print the results\n",
    "print(\"Measures of Central Tendency:\")\n",
    "print(f\"Mean: {mean}\")\n",
    "print(f\"Median: {median}\")\n",
    "\n",
    "print(\"\\nMeasures of Spread:\")\n",
    "print(f\"Standard Deviation: {std_dev}\")\n",
    "print(f\"Range: {range_val}\")\n"
   ]
  },
  {
   "cell_type": "code",
   "execution_count": null,
   "id": "024c7203",
   "metadata": {},
   "outputs": [],
   "source": []
  }
 ],
 "metadata": {
  "kernelspec": {
   "display_name": "Python 3 (ipykernel)",
   "language": "python",
   "name": "python3"
  },
  "language_info": {
   "codemirror_mode": {
    "name": "ipython",
    "version": 3
   },
   "file_extension": ".py",
   "mimetype": "text/x-python",
   "name": "python",
   "nbconvert_exporter": "python",
   "pygments_lexer": "ipython3",
   "version": "3.9.13"
  }
 },
 "nbformat": 4,
 "nbformat_minor": 5
}
