{
 "cells": [
  {
   "cell_type": "code",
   "execution_count": 1,
   "id": "c77ce9f4",
   "metadata": {},
   "outputs": [
    {
     "name": "stdout",
     "output_type": "stream",
     "text": [
      "Enter the length of the array: 5\n",
      "Enter element 1: 2\n",
      "Enter element 2: 4\n",
      "Enter element 3: 0\n",
      "Enter element 4: 100\n",
      "Enter element 5: 39\n",
      "Sorted Array: [0, 2, 4, 39, 100]\n"
     ]
    }
   ],
   "source": [
    "class ArraySorter:\n",
    "    def __init__(self):\n",
    "        self.array = []\n",
    "\n",
    "    def get_array(self):\n",
    "        length = int(input(\"Enter the length of the array: \"))\n",
    "        for i in range(length):\n",
    "            element = int(input(f\"Enter element {i+1}: \"))\n",
    "            self.array.append(element)\n",
    "        \n",
    "        sorted_array = sorted(self.array)\n",
    "        return sorted_array\n",
    "\n",
    "\n",
    "# Example usage:\n",
    "my_array_sorter = ArraySorter()\n",
    "sorted_array = my_array_sorter.get_array()\n",
    "print(\"Sorted Array:\", sorted_array)\n"
   ]
  },
  {
   "cell_type": "code",
   "execution_count": null,
   "id": "7e729461",
   "metadata": {},
   "outputs": [],
   "source": []
  }
 ],
 "metadata": {
  "kernelspec": {
   "display_name": "Python 3 (ipykernel)",
   "language": "python",
   "name": "python3"
  },
  "language_info": {
   "codemirror_mode": {
    "name": "ipython",
    "version": 3
   },
   "file_extension": ".py",
   "mimetype": "text/x-python",
   "name": "python",
   "nbconvert_exporter": "python",
   "pygments_lexer": "ipython3",
   "version": "3.9.13"
  }
 },
 "nbformat": 4,
 "nbformat_minor": 5
}
