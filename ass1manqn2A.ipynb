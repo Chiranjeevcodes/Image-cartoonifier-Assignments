{
 "cells": [
  {
   "cell_type": "code",
   "execution_count": 1,
   "id": "9cc1084c",
   "metadata": {},
   "outputs": [
    {
     "name": "stdout",
     "output_type": "stream",
     "text": [
      "Diagonal elements: [ 1  6 11 16]\n",
      "Trace of the matrix: 34\n",
      "Max elements per row: [ 4  8 12 16]\n",
      "Min elements per row: [ 1  5  9 13]\n"
     ]
    }
   ],
   "source": [
    "import numpy as np\n",
    "\n",
    "# Create a 2D list\n",
    "matrix = [[1, 2, 3, 4],\n",
    "          [5, 6, 7, 8],\n",
    "          [9, 10, 11, 12],\n",
    "          [13, 14, 15, 16]]\n",
    "\n",
    "# Convert the 2D list to a NumPy array\n",
    "matrix_np = np.array(matrix)\n",
    "\n",
    "# Extract the diagonal elements from the array\n",
    "diagonal_elements = np.diagonal(matrix_np)\n",
    "print(\"Diagonal elements:\", diagonal_elements)\n",
    "\n",
    "# Find the trace of the matrix\n",
    "trace = np.trace(matrix_np)\n",
    "print(\"Trace of the matrix:\", trace)\n",
    "\n",
    "# Find the max and min elements of each row in the matrix\n",
    "max_per_row = np.max(matrix_np, axis=1)\n",
    "min_per_row = np.min(matrix_np, axis=1)\n",
    "print(\"Max elements per row:\", max_per_row)\n",
    "print(\"Min elements per row:\", min_per_row)\n"
   ]
  },
  {
   "cell_type": "code",
   "execution_count": null,
   "id": "a1e420d9",
   "metadata": {},
   "outputs": [],
   "source": []
  }
 ],
 "metadata": {
  "kernelspec": {
   "display_name": "Python 3 (ipykernel)",
   "language": "python",
   "name": "python3"
  },
  "language_info": {
   "codemirror_mode": {
    "name": "ipython",
    "version": 3
   },
   "file_extension": ".py",
   "mimetype": "text/x-python",
   "name": "python",
   "nbconvert_exporter": "python",
   "pygments_lexer": "ipython3",
   "version": "3.9.13"
  }
 },
 "nbformat": 4,
 "nbformat_minor": 5
}
