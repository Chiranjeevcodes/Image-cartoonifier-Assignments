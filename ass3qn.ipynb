{
 "cells": [
  {
   "cell_type": "code",
   "execution_count": null,
   "id": "8f6ddfe4",
   "metadata": {},
   "outputs": [],
   "source": [
    "import pandas as pd\n",
    "from sklearn.model_selection import train_test_split\n",
    "from sklearn.preprocessing import LabelEncoder\n",
    "from sklearn.ensemble import RandomForestClassifier\n",
    "from sklearn.metrics import accuracy_score\n",
    "\n",
    "# Load the training data\n",
    "train_data = pd.read_csv(\"corrected train set.csv\")\n",
    "\n",
    "# Split the data into features and target\n",
    "X = train_data.drop(\"failure\", axis=1)\n",
    "y = train_data[\"failure\"]\n",
    "\n",
    "# Define the categorical features\n",
    "categorical_features = [\"product_code\",\"loading\", \"attribute_0\", \"attribute_1\", \"attribute_2\", \"attribute_3\",\"measurement_1\",\"measurement_2\",\"measurement_3\",\"measurement_4\",\"measurement_5\",\"measurement_6\",\"measurement_7\",\"measurement_8\",\"measurement_9\",\"measurement_10\",\"measurement_11\",\"measurement_12\",\"measurement_13\",\"measurement_14\",\"measurement_15\", \"measurement_16\", \"measurement_17\"]\n",
    "\n",
    "# Perform label encoding for categorical features\n",
    "le = LabelEncoder()\n",
    "for feature in categorical_features:\n",
    "    X[feature] = le.fit_transform(X[feature])\n",
    "\n",
    "# Split the data into training and validation sets\n",
    "X_train, X_val, y_train, y_val = train_test_split(X, y, test_size=0.2, random_state=42)\n",
    "\n",
    "# Train a Random Forest classifier\n",
    "clf = RandomForestClassifier()\n",
    "clf.fit(X_train, y_train)\n",
    "\n",
    "# Make predictions on the validation set\n",
    "y_pred = clf.predict(X_val)\n",
    "\n",
    "# Calculate the accuracy of the model\n",
    "accuracy = accuracy_score(y_val, y_pred)\n",
    "print(\"Accuracy:\", accuracy)"
   ]
  }
 ],
 "metadata": {
  "kernelspec": {
   "display_name": "Python 3 (ipykernel)",
   "language": "python",
   "name": "python3"
  },
  "language_info": {
   "codemirror_mode": {
    "name": "ipython",
    "version": 3
   },
   "file_extension": ".py",
   "mimetype": "text/x-python",
   "name": "python",
   "nbconvert_exporter": "python",
   "pygments_lexer": "ipython3",
   "version": "3.9.13"
  }
 },
 "nbformat": 4,
 "nbformat_minor": 5
}
