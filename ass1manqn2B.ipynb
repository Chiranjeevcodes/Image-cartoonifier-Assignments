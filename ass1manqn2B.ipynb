{
 "cells": [
  {
   "cell_type": "code",
   "execution_count": 1,
   "id": "5f28680e",
   "metadata": {},
   "outputs": [
    {
     "name": "stdout",
     "output_type": "stream",
     "text": [
      "[[0.95549817 0.08018805 0.4772523  0.0287228  0.10929858]\n",
      " [0.27259751 0.59062462 0.6596189  0.85327848 0.35551534]\n",
      " [0.19310185 0.43776026 0.0822287  0.86036023 0.35707103]\n",
      " [0.25846134 0.50338048 0.61219231 0.28626164 0.23985996]]\n"
     ]
    }
   ],
   "source": [
    "import numpy as np\n",
    "\n",
    "# Create a 2D numpy array with shape (4, 5)\n",
    "array = np.random.uniform(0, 1, size=(4, 5))\n",
    "\n",
    "# Print the resulting numpy array\n",
    "print(array)\n"
   ]
  },
  {
   "cell_type": "code",
   "execution_count": null,
   "id": "9e15ed05",
   "metadata": {},
   "outputs": [],
   "source": []
  }
 ],
 "metadata": {
  "kernelspec": {
   "display_name": "Python 3 (ipykernel)",
   "language": "python",
   "name": "python3"
  },
  "language_info": {
   "codemirror_mode": {
    "name": "ipython",
    "version": 3
   },
   "file_extension": ".py",
   "mimetype": "text/x-python",
   "name": "python",
   "nbconvert_exporter": "python",
   "pygments_lexer": "ipython3",
   "version": "3.9.13"
  }
 },
 "nbformat": 4,
 "nbformat_minor": 5
}
